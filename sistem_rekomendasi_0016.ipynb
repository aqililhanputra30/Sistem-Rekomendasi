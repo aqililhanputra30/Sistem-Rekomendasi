{
  "cells": [
    {
      "cell_type": "markdown",
      "metadata": {
        "id": "view-in-github",
        "colab_type": "text"
      },
      "source": [
        "<a href=\"https://colab.research.google.com/github/bimapamungkas666/Sistem-Rekomendasi/blob/main/sistem_rekomendasi_0016.ipynb\" target=\"_parent\"><img src=\"https://colab.research.google.com/assets/colab-badge.svg\" alt=\"Open In Colab\"/></a>"
      ]
    },
    {
      "cell_type": "code",
      "execution_count": 12,
      "metadata": {
        "id": "CQTYgDVB32bA",
        "outputId": "d45e1c94-e3ac-4d45-baea-275790020028",
        "colab": {
          "base_uri": "https://localhost:8080/",
          "height": 206
        }
      },
      "outputs": [
        {
          "output_type": "execute_result",
          "data": {
            "text/plain": [
              "                                    Mitra  \\\n",
              "0                          Bima Pamungkas   \n",
              "1       PT Telkom Indonesia (Persero) Tbk   \n",
              "2           PT STECHOQ ROBOTIKA INDONESIA   \n",
              "3  PT Bank Negara Indonesia (Persero) Tbk   \n",
              "4               PT Zona Edukasi Nusantara   \n",
              "\n",
              "                                              Alamat  \\\n",
              "0  JL. Jetis Trawas RT 01 RW 003, Cepoko, Gunungp...   \n",
              "1                               Jl Japati 1, Bandung   \n",
              "2  Jalan Belimbing A-17 Perum Sidoarum Blok II, G...   \n",
              "3  Gedung Grha BNI, Jl. Jend. Sudirman No.10, RT....   \n",
              "4  Graha Aktiva, Ground Floor Jalan HR Rasuna Sai...   \n",
              "\n",
              "                                               Modul  \n",
              "0  Implementasi Basis Data Web Service Sistem Bas...  \n",
              "1  Content Review Job Performance Strategic Commu...  \n",
              "2  Lighting Rendering Sclupting 3D Shadering Text...  \n",
              "3  Can do attitude Blender Unity Microservices Wi...  \n",
              "4  Kemampuan Literasi Kemampuan Numerasi Komunika...  "
            ],
            "text/html": [
              "\n",
              "  <div id=\"df-477f250b-6786-4f1e-b9c8-34b30de5dcd7\">\n",
              "    <div class=\"colab-df-container\">\n",
              "      <div>\n",
              "<style scoped>\n",
              "    .dataframe tbody tr th:only-of-type {\n",
              "        vertical-align: middle;\n",
              "    }\n",
              "\n",
              "    .dataframe tbody tr th {\n",
              "        vertical-align: top;\n",
              "    }\n",
              "\n",
              "    .dataframe thead th {\n",
              "        text-align: right;\n",
              "    }\n",
              "</style>\n",
              "<table border=\"1\" class=\"dataframe\">\n",
              "  <thead>\n",
              "    <tr style=\"text-align: right;\">\n",
              "      <th></th>\n",
              "      <th>Mitra</th>\n",
              "      <th>Alamat</th>\n",
              "      <th>Modul</th>\n",
              "    </tr>\n",
              "  </thead>\n",
              "  <tbody>\n",
              "    <tr>\n",
              "      <th>0</th>\n",
              "      <td>Bima Pamungkas</td>\n",
              "      <td>JL. Jetis Trawas RT 01 RW 003, Cepoko, Gunungp...</td>\n",
              "      <td>Implementasi Basis Data Web Service Sistem Bas...</td>\n",
              "    </tr>\n",
              "    <tr>\n",
              "      <th>1</th>\n",
              "      <td>PT Telkom Indonesia (Persero) Tbk</td>\n",
              "      <td>Jl Japati 1, Bandung</td>\n",
              "      <td>Content Review Job Performance Strategic Commu...</td>\n",
              "    </tr>\n",
              "    <tr>\n",
              "      <th>2</th>\n",
              "      <td>PT STECHOQ ROBOTIKA INDONESIA</td>\n",
              "      <td>Jalan Belimbing A-17 Perum Sidoarum Blok II, G...</td>\n",
              "      <td>Lighting Rendering Sclupting 3D Shadering Text...</td>\n",
              "    </tr>\n",
              "    <tr>\n",
              "      <th>3</th>\n",
              "      <td>PT Bank Negara Indonesia (Persero) Tbk</td>\n",
              "      <td>Gedung Grha BNI, Jl. Jend. Sudirman No.10, RT....</td>\n",
              "      <td>Can do attitude Blender Unity Microservices Wi...</td>\n",
              "    </tr>\n",
              "    <tr>\n",
              "      <th>4</th>\n",
              "      <td>PT Zona Edukasi Nusantara</td>\n",
              "      <td>Graha Aktiva, Ground Floor Jalan HR Rasuna Sai...</td>\n",
              "      <td>Kemampuan Literasi Kemampuan Numerasi Komunika...</td>\n",
              "    </tr>\n",
              "  </tbody>\n",
              "</table>\n",
              "</div>\n",
              "      <button class=\"colab-df-convert\" onclick=\"convertToInteractive('df-477f250b-6786-4f1e-b9c8-34b30de5dcd7')\"\n",
              "              title=\"Convert this dataframe to an interactive table.\"\n",
              "              style=\"display:none;\">\n",
              "        \n",
              "  <svg xmlns=\"http://www.w3.org/2000/svg\" height=\"24px\"viewBox=\"0 0 24 24\"\n",
              "       width=\"24px\">\n",
              "    <path d=\"M0 0h24v24H0V0z\" fill=\"none\"/>\n",
              "    <path d=\"M18.56 5.44l.94 2.06.94-2.06 2.06-.94-2.06-.94-.94-2.06-.94 2.06-2.06.94zm-11 1L8.5 8.5l.94-2.06 2.06-.94-2.06-.94L8.5 2.5l-.94 2.06-2.06.94zm10 10l.94 2.06.94-2.06 2.06-.94-2.06-.94-.94-2.06-.94 2.06-2.06.94z\"/><path d=\"M17.41 7.96l-1.37-1.37c-.4-.4-.92-.59-1.43-.59-.52 0-1.04.2-1.43.59L10.3 9.45l-7.72 7.72c-.78.78-.78 2.05 0 2.83L4 21.41c.39.39.9.59 1.41.59.51 0 1.02-.2 1.41-.59l7.78-7.78 2.81-2.81c.8-.78.8-2.07 0-2.86zM5.41 20L4 18.59l7.72-7.72 1.47 1.35L5.41 20z\"/>\n",
              "  </svg>\n",
              "      </button>\n",
              "      \n",
              "  <style>\n",
              "    .colab-df-container {\n",
              "      display:flex;\n",
              "      flex-wrap:wrap;\n",
              "      gap: 12px;\n",
              "    }\n",
              "\n",
              "    .colab-df-convert {\n",
              "      background-color: #E8F0FE;\n",
              "      border: none;\n",
              "      border-radius: 50%;\n",
              "      cursor: pointer;\n",
              "      display: none;\n",
              "      fill: #1967D2;\n",
              "      height: 32px;\n",
              "      padding: 0 0 0 0;\n",
              "      width: 32px;\n",
              "    }\n",
              "\n",
              "    .colab-df-convert:hover {\n",
              "      background-color: #E2EBFA;\n",
              "      box-shadow: 0px 1px 2px rgba(60, 64, 67, 0.3), 0px 1px 3px 1px rgba(60, 64, 67, 0.15);\n",
              "      fill: #174EA6;\n",
              "    }\n",
              "\n",
              "    [theme=dark] .colab-df-convert {\n",
              "      background-color: #3B4455;\n",
              "      fill: #D2E3FC;\n",
              "    }\n",
              "\n",
              "    [theme=dark] .colab-df-convert:hover {\n",
              "      background-color: #434B5C;\n",
              "      box-shadow: 0px 1px 3px 1px rgba(0, 0, 0, 0.15);\n",
              "      filter: drop-shadow(0px 1px 2px rgba(0, 0, 0, 0.3));\n",
              "      fill: #FFFFFF;\n",
              "    }\n",
              "  </style>\n",
              "\n",
              "      <script>\n",
              "        const buttonEl =\n",
              "          document.querySelector('#df-477f250b-6786-4f1e-b9c8-34b30de5dcd7 button.colab-df-convert');\n",
              "        buttonEl.style.display =\n",
              "          google.colab.kernel.accessAllowed ? 'block' : 'none';\n",
              "\n",
              "        async function convertToInteractive(key) {\n",
              "          const element = document.querySelector('#df-477f250b-6786-4f1e-b9c8-34b30de5dcd7');\n",
              "          const dataTable =\n",
              "            await google.colab.kernel.invokeFunction('convertToInteractive',\n",
              "                                                     [key], {});\n",
              "          if (!dataTable) return;\n",
              "\n",
              "          const docLinkHtml = 'Like what you see? Visit the ' +\n",
              "            '<a target=\"_blank\" href=https://colab.research.google.com/notebooks/data_table.ipynb>data table notebook</a>'\n",
              "            + ' to learn more about interactive tables.';\n",
              "          element.innerHTML = '';\n",
              "          dataTable['output_type'] = 'display_data';\n",
              "          await google.colab.output.renderOutput(dataTable, element);\n",
              "          const docLink = document.createElement('div');\n",
              "          docLink.innerHTML = docLinkHtml;\n",
              "          element.appendChild(docLink);\n",
              "        }\n",
              "      </script>\n",
              "    </div>\n",
              "  </div>\n",
              "  "
            ]
          },
          "metadata": {},
          "execution_count": 12
        }
      ],
      "source": [
        "import pandas as pd\n",
        "import numpy as np\n",
        "from sklearn.metrics.pairwise import cosine_similarity\n",
        "from sklearn.feature_extraction.text import TfidfVectorizer\n",
        "from nltk.corpus import stopwords\n",
        "import re\n",
        "import random\n",
        "\n",
        "df = pd.read_csv(\"https://raw.githubusercontent.com/bimapamungkas666/Sistem-Rekomendasi/main/data.csv\")\n",
        "df.head()"
      ]
    },
    {
      "cell_type": "markdown",
      "metadata": {
        "id": "IWDjJ4eE32bJ"
      },
      "source": [
        "## 1. Ikhtisar"
      ]
    },
    {
      "cell_type": "code",
      "execution_count": 13,
      "metadata": {
        "id": "z7pBCYcs32bL",
        "outputId": "79c31400-c066-4a87-a75c-a09a20e55bd3",
        "colab": {
          "base_uri": "https://localhost:8080/",
          "height": 175
        }
      },
      "outputs": [
        {
          "output_type": "execute_result",
          "data": {
            "text/plain": [
              "                 Mitra                                             Alamat  \\\n",
              "count               15                                                 15   \n",
              "unique              15                                                 15   \n",
              "top     Bima Pamungkas  JL. Jetis Trawas RT 01 RW 003, Cepoko, Gunungp...   \n",
              "freq                 1                                                  1   \n",
              "\n",
              "                                                    Modul  \n",
              "count                                                  15  \n",
              "unique                                                 15  \n",
              "top     Implementasi Basis Data Web Service Sistem Bas...  \n",
              "freq                                                    1  "
            ],
            "text/html": [
              "\n",
              "  <div id=\"df-b1f41180-9e34-45c7-9539-74550178a336\">\n",
              "    <div class=\"colab-df-container\">\n",
              "      <div>\n",
              "<style scoped>\n",
              "    .dataframe tbody tr th:only-of-type {\n",
              "        vertical-align: middle;\n",
              "    }\n",
              "\n",
              "    .dataframe tbody tr th {\n",
              "        vertical-align: top;\n",
              "    }\n",
              "\n",
              "    .dataframe thead th {\n",
              "        text-align: right;\n",
              "    }\n",
              "</style>\n",
              "<table border=\"1\" class=\"dataframe\">\n",
              "  <thead>\n",
              "    <tr style=\"text-align: right;\">\n",
              "      <th></th>\n",
              "      <th>Mitra</th>\n",
              "      <th>Alamat</th>\n",
              "      <th>Modul</th>\n",
              "    </tr>\n",
              "  </thead>\n",
              "  <tbody>\n",
              "    <tr>\n",
              "      <th>count</th>\n",
              "      <td>15</td>\n",
              "      <td>15</td>\n",
              "      <td>15</td>\n",
              "    </tr>\n",
              "    <tr>\n",
              "      <th>unique</th>\n",
              "      <td>15</td>\n",
              "      <td>15</td>\n",
              "      <td>15</td>\n",
              "    </tr>\n",
              "    <tr>\n",
              "      <th>top</th>\n",
              "      <td>Bima Pamungkas</td>\n",
              "      <td>JL. Jetis Trawas RT 01 RW 003, Cepoko, Gunungp...</td>\n",
              "      <td>Implementasi Basis Data Web Service Sistem Bas...</td>\n",
              "    </tr>\n",
              "    <tr>\n",
              "      <th>freq</th>\n",
              "      <td>1</td>\n",
              "      <td>1</td>\n",
              "      <td>1</td>\n",
              "    </tr>\n",
              "  </tbody>\n",
              "</table>\n",
              "</div>\n",
              "      <button class=\"colab-df-convert\" onclick=\"convertToInteractive('df-b1f41180-9e34-45c7-9539-74550178a336')\"\n",
              "              title=\"Convert this dataframe to an interactive table.\"\n",
              "              style=\"display:none;\">\n",
              "        \n",
              "  <svg xmlns=\"http://www.w3.org/2000/svg\" height=\"24px\"viewBox=\"0 0 24 24\"\n",
              "       width=\"24px\">\n",
              "    <path d=\"M0 0h24v24H0V0z\" fill=\"none\"/>\n",
              "    <path d=\"M18.56 5.44l.94 2.06.94-2.06 2.06-.94-2.06-.94-.94-2.06-.94 2.06-2.06.94zm-11 1L8.5 8.5l.94-2.06 2.06-.94-2.06-.94L8.5 2.5l-.94 2.06-2.06.94zm10 10l.94 2.06.94-2.06 2.06-.94-2.06-.94-.94-2.06-.94 2.06-2.06.94z\"/><path d=\"M17.41 7.96l-1.37-1.37c-.4-.4-.92-.59-1.43-.59-.52 0-1.04.2-1.43.59L10.3 9.45l-7.72 7.72c-.78.78-.78 2.05 0 2.83L4 21.41c.39.39.9.59 1.41.59.51 0 1.02-.2 1.41-.59l7.78-7.78 2.81-2.81c.8-.78.8-2.07 0-2.86zM5.41 20L4 18.59l7.72-7.72 1.47 1.35L5.41 20z\"/>\n",
              "  </svg>\n",
              "      </button>\n",
              "      \n",
              "  <style>\n",
              "    .colab-df-container {\n",
              "      display:flex;\n",
              "      flex-wrap:wrap;\n",
              "      gap: 12px;\n",
              "    }\n",
              "\n",
              "    .colab-df-convert {\n",
              "      background-color: #E8F0FE;\n",
              "      border: none;\n",
              "      border-radius: 50%;\n",
              "      cursor: pointer;\n",
              "      display: none;\n",
              "      fill: #1967D2;\n",
              "      height: 32px;\n",
              "      padding: 0 0 0 0;\n",
              "      width: 32px;\n",
              "    }\n",
              "\n",
              "    .colab-df-convert:hover {\n",
              "      background-color: #E2EBFA;\n",
              "      box-shadow: 0px 1px 2px rgba(60, 64, 67, 0.3), 0px 1px 3px 1px rgba(60, 64, 67, 0.15);\n",
              "      fill: #174EA6;\n",
              "    }\n",
              "\n",
              "    [theme=dark] .colab-df-convert {\n",
              "      background-color: #3B4455;\n",
              "      fill: #D2E3FC;\n",
              "    }\n",
              "\n",
              "    [theme=dark] .colab-df-convert:hover {\n",
              "      background-color: #434B5C;\n",
              "      box-shadow: 0px 1px 3px 1px rgba(0, 0, 0, 0.15);\n",
              "      filter: drop-shadow(0px 1px 2px rgba(0, 0, 0, 0.3));\n",
              "      fill: #FFFFFF;\n",
              "    }\n",
              "  </style>\n",
              "\n",
              "      <script>\n",
              "        const buttonEl =\n",
              "          document.querySelector('#df-b1f41180-9e34-45c7-9539-74550178a336 button.colab-df-convert');\n",
              "        buttonEl.style.display =\n",
              "          google.colab.kernel.accessAllowed ? 'block' : 'none';\n",
              "\n",
              "        async function convertToInteractive(key) {\n",
              "          const element = document.querySelector('#df-b1f41180-9e34-45c7-9539-74550178a336');\n",
              "          const dataTable =\n",
              "            await google.colab.kernel.invokeFunction('convertToInteractive',\n",
              "                                                     [key], {});\n",
              "          if (!dataTable) return;\n",
              "\n",
              "          const docLinkHtml = 'Like what you see? Visit the ' +\n",
              "            '<a target=\"_blank\" href=https://colab.research.google.com/notebooks/data_table.ipynb>data table notebook</a>'\n",
              "            + ' to learn more about interactive tables.';\n",
              "          element.innerHTML = '';\n",
              "          dataTable['output_type'] = 'display_data';\n",
              "          await google.colab.output.renderOutput(dataTable, element);\n",
              "          const docLink = document.createElement('div');\n",
              "          docLink.innerHTML = docLinkHtml;\n",
              "          element.appendChild(docLink);\n",
              "        }\n",
              "      </script>\n",
              "    </div>\n",
              "  </div>\n",
              "  "
            ]
          },
          "metadata": {},
          "execution_count": 13
        }
      ],
      "source": [
        "df.describe()"
      ]
    },
    {
      "cell_type": "code",
      "execution_count": 14,
      "metadata": {
        "id": "oL9tFlqN32bN",
        "outputId": "ad7181db-fa93-48ab-9150-7cb3e87f2393",
        "colab": {
          "base_uri": "https://localhost:8080/"
        }
      },
      "outputs": [
        {
          "output_type": "stream",
          "name": "stdout",
          "text": [
            "<class 'pandas.core.frame.DataFrame'>\n",
            "RangeIndex: 15 entries, 0 to 14\n",
            "Data columns (total 3 columns):\n",
            " #   Column  Non-Null Count  Dtype \n",
            "---  ------  --------------  ----- \n",
            " 0   Mitra   15 non-null     object\n",
            " 1   Alamat  15 non-null     object\n",
            " 2   Modul   15 non-null     object\n",
            "dtypes: object(3)\n",
            "memory usage: 488.0+ bytes\n"
          ]
        }
      ],
      "source": [
        "df.info()"
      ]
    },
    {
      "cell_type": "markdown",
      "metadata": {
        "id": "BGMxSgpx32bP"
      },
      "source": [
        "## 2. Tampilan Modul Pembelajaran (Sebelum Preprocessing)"
      ]
    },
    {
      "cell_type": "code",
      "execution_count": 15,
      "metadata": {
        "id": "-IvjAXg532bR"
      },
      "outputs": [],
      "source": [
        "def print_description(index):\n",
        "    example = df[df.index == index][['Modul', 'Mitra','Alamat']].values[0]\n",
        "    if len(example) > 0:\n",
        "        print(example[0])\n",
        "        print('Mitra:', example[1])\n",
        "        print('Alamat:', example[2])"
      ]
    },
    {
      "cell_type": "code",
      "execution_count": 16,
      "metadata": {
        "id": "Jjz6KQFT32bT",
        "outputId": "f22de113-b7fd-4c4e-9afd-792d79ff6cbb",
        "colab": {
          "base_uri": "https://localhost:8080/"
        }
      },
      "outputs": [
        {
          "output_type": "stream",
          "name": "stdout",
          "text": [
            "Content Review Job Performance Strategic Communication Plan Content Design Content Delivery Content Strategy\n",
            "Mitra: PT Telkom Indonesia (Persero) Tbk\n",
            "Alamat: Jl Japati 1, Bandung\n"
          ]
        }
      ],
      "source": [
        "print_description(1)"
      ]
    },
    {
      "cell_type": "code",
      "execution_count": 17,
      "metadata": {
        "id": "AtOC-O4z32bV",
        "outputId": "28e162b5-674b-4b83-a79b-b25de6055887",
        "colab": {
          "base_uri": "https://localhost:8080/"
        }
      },
      "outputs": [
        {
          "output_type": "stream",
          "name": "stdout",
          "text": [
            "Sofware engineering menerapkan proses pengembangan software menggunakan code editor vscode terminal version control dan basic networking\n",
            "Mitra: PT Ruang Raya Indonesia\n",
            "Alamat: Jl. Dr. Saharjo No.161, Manggarai Selatan, Tebet, Kota Jakarta Selatan, Daerah Khusus Ibukota Jakarta 12860\n"
          ]
        }
      ],
      "source": [
        "print_description(11)"
      ]
    },
    {
      "cell_type": "code",
      "execution_count": 18,
      "metadata": {
        "id": "SheyCcRh32bY",
        "outputId": "f3e83ef7-a15a-4d94-87bb-18e444b71c18",
        "colab": {
          "base_uri": "https://localhost:8080/"
        }
      },
      "outputs": [
        {
          "output_type": "stream",
          "name": "stdout",
          "text": [
            "Implementasi Basis Data Web Service Sistem Basis Data Pemrograman Web Jaringan Komputer Sistem Operasi Pemrograman Aplikasi Mobile Text Mining \n",
            "Mitra: Bima Pamungkas\n",
            "Alamat: JL. Jetis Trawas RT 01 RW 003, Cepoko, Gunungpati, Semarang\n"
          ]
        }
      ],
      "source": [
        "print_description(0)"
      ]
    },
    {
      "cell_type": "markdown",
      "metadata": {
        "id": "okT9miie32bb"
      },
      "source": [
        "## 3. Text Preprocessing"
      ]
    },
    {
      "cell_type": "code",
      "source": [
        "import nltk\n",
        "nltk.download('stopwords')\n",
        "clean_spcl = re.compile('[/(){}\\[\\]\\|@,;]')\n",
        "clean_symbol = re.compile('[^0-9a-z #+_]')\n",
        "#stopworda = set(stopwords.words('english'))\n",
        "\n",
        "def clean_text(text):\n",
        "    \"\"\"\n",
        "        text: a string\n",
        "        \n",
        "        return: modified initial string\n",
        "    \"\"\"\n",
        "    text = text.lower() # lowercase text\n",
        "    text = clean_spcl.sub(' ', text)\n",
        "    text = clean_symbol.sub('', text)\n",
        "    #text = ' '.join(word for word in text.split() if word not in stopworda) # hapus stopword dari kolom deskripsi\n",
        "    return text\n",
        "    \n",
        "df['modul_pembelajaran_clean'] = df['Modul'].apply(clean_text)"
      ],
      "metadata": {
        "colab": {
          "base_uri": "https://localhost:8080/"
        },
        "id": "2sZhO5YF6Qn7",
        "outputId": "0014450c-a80b-47b6-c887-55f5e69b1714"
      },
      "execution_count": 19,
      "outputs": [
        {
          "output_type": "stream",
          "name": "stderr",
          "text": [
            "[nltk_data] Downloading package stopwords to /root/nltk_data...\n",
            "[nltk_data]   Package stopwords is already up-to-date!\n"
          ]
        }
      ]
    },
    {
      "cell_type": "code",
      "execution_count": 20,
      "metadata": {
        "id": "B2uXpInK32bf",
        "outputId": "6df83cd6-cf23-4945-9fc6-ace94d192952",
        "colab": {
          "base_uri": "https://localhost:8080/",
          "height": 337
        }
      },
      "outputs": [
        {
          "output_type": "execute_result",
          "data": {
            "text/plain": [
              "                                    Mitra  \\\n",
              "0                          Bima Pamungkas   \n",
              "1       PT Telkom Indonesia (Persero) Tbk   \n",
              "2           PT STECHOQ ROBOTIKA INDONESIA   \n",
              "3  PT Bank Negara Indonesia (Persero) Tbk   \n",
              "4               PT Zona Edukasi Nusantara   \n",
              "\n",
              "                                              Alamat  \\\n",
              "0  JL. Jetis Trawas RT 01 RW 003, Cepoko, Gunungp...   \n",
              "1                               Jl Japati 1, Bandung   \n",
              "2  Jalan Belimbing A-17 Perum Sidoarum Blok II, G...   \n",
              "3  Gedung Grha BNI, Jl. Jend. Sudirman No.10, RT....   \n",
              "4  Graha Aktiva, Ground Floor Jalan HR Rasuna Sai...   \n",
              "\n",
              "                                               Modul  \\\n",
              "0  Implementasi Basis Data Web Service Sistem Bas...   \n",
              "1  Content Review Job Performance Strategic Commu...   \n",
              "2  Lighting Rendering Sclupting 3D Shadering Text...   \n",
              "3  Can do attitude Blender Unity Microservices Wi...   \n",
              "4  Kemampuan Literasi Kemampuan Numerasi Komunika...   \n",
              "\n",
              "                            modul_pembelajaran_clean  \n",
              "0  implementasi basis data web service sistem bas...  \n",
              "1  content review job performance strategic commu...  \n",
              "2  lighting rendering sclupting 3d shadering text...  \n",
              "3  can do attitude blender unity microservices wi...  \n",
              "4  kemampuan literasi kemampuan numerasi komunika...  "
            ],
            "text/html": [
              "\n",
              "  <div id=\"df-388f2d45-9dd7-4f34-969d-33a19f3e4686\">\n",
              "    <div class=\"colab-df-container\">\n",
              "      <div>\n",
              "<style scoped>\n",
              "    .dataframe tbody tr th:only-of-type {\n",
              "        vertical-align: middle;\n",
              "    }\n",
              "\n",
              "    .dataframe tbody tr th {\n",
              "        vertical-align: top;\n",
              "    }\n",
              "\n",
              "    .dataframe thead th {\n",
              "        text-align: right;\n",
              "    }\n",
              "</style>\n",
              "<table border=\"1\" class=\"dataframe\">\n",
              "  <thead>\n",
              "    <tr style=\"text-align: right;\">\n",
              "      <th></th>\n",
              "      <th>Mitra</th>\n",
              "      <th>Alamat</th>\n",
              "      <th>Modul</th>\n",
              "      <th>modul_pembelajaran_clean</th>\n",
              "    </tr>\n",
              "  </thead>\n",
              "  <tbody>\n",
              "    <tr>\n",
              "      <th>0</th>\n",
              "      <td>Bima Pamungkas</td>\n",
              "      <td>JL. Jetis Trawas RT 01 RW 003, Cepoko, Gunungp...</td>\n",
              "      <td>Implementasi Basis Data Web Service Sistem Bas...</td>\n",
              "      <td>implementasi basis data web service sistem bas...</td>\n",
              "    </tr>\n",
              "    <tr>\n",
              "      <th>1</th>\n",
              "      <td>PT Telkom Indonesia (Persero) Tbk</td>\n",
              "      <td>Jl Japati 1, Bandung</td>\n",
              "      <td>Content Review Job Performance Strategic Commu...</td>\n",
              "      <td>content review job performance strategic commu...</td>\n",
              "    </tr>\n",
              "    <tr>\n",
              "      <th>2</th>\n",
              "      <td>PT STECHOQ ROBOTIKA INDONESIA</td>\n",
              "      <td>Jalan Belimbing A-17 Perum Sidoarum Blok II, G...</td>\n",
              "      <td>Lighting Rendering Sclupting 3D Shadering Text...</td>\n",
              "      <td>lighting rendering sclupting 3d shadering text...</td>\n",
              "    </tr>\n",
              "    <tr>\n",
              "      <th>3</th>\n",
              "      <td>PT Bank Negara Indonesia (Persero) Tbk</td>\n",
              "      <td>Gedung Grha BNI, Jl. Jend. Sudirman No.10, RT....</td>\n",
              "      <td>Can do attitude Blender Unity Microservices Wi...</td>\n",
              "      <td>can do attitude blender unity microservices wi...</td>\n",
              "    </tr>\n",
              "    <tr>\n",
              "      <th>4</th>\n",
              "      <td>PT Zona Edukasi Nusantara</td>\n",
              "      <td>Graha Aktiva, Ground Floor Jalan HR Rasuna Sai...</td>\n",
              "      <td>Kemampuan Literasi Kemampuan Numerasi Komunika...</td>\n",
              "      <td>kemampuan literasi kemampuan numerasi komunika...</td>\n",
              "    </tr>\n",
              "  </tbody>\n",
              "</table>\n",
              "</div>\n",
              "      <button class=\"colab-df-convert\" onclick=\"convertToInteractive('df-388f2d45-9dd7-4f34-969d-33a19f3e4686')\"\n",
              "              title=\"Convert this dataframe to an interactive table.\"\n",
              "              style=\"display:none;\">\n",
              "        \n",
              "  <svg xmlns=\"http://www.w3.org/2000/svg\" height=\"24px\"viewBox=\"0 0 24 24\"\n",
              "       width=\"24px\">\n",
              "    <path d=\"M0 0h24v24H0V0z\" fill=\"none\"/>\n",
              "    <path d=\"M18.56 5.44l.94 2.06.94-2.06 2.06-.94-2.06-.94-.94-2.06-.94 2.06-2.06.94zm-11 1L8.5 8.5l.94-2.06 2.06-.94-2.06-.94L8.5 2.5l-.94 2.06-2.06.94zm10 10l.94 2.06.94-2.06 2.06-.94-2.06-.94-.94-2.06-.94 2.06-2.06.94z\"/><path d=\"M17.41 7.96l-1.37-1.37c-.4-.4-.92-.59-1.43-.59-.52 0-1.04.2-1.43.59L10.3 9.45l-7.72 7.72c-.78.78-.78 2.05 0 2.83L4 21.41c.39.39.9.59 1.41.59.51 0 1.02-.2 1.41-.59l7.78-7.78 2.81-2.81c.8-.78.8-2.07 0-2.86zM5.41 20L4 18.59l7.72-7.72 1.47 1.35L5.41 20z\"/>\n",
              "  </svg>\n",
              "      </button>\n",
              "      \n",
              "  <style>\n",
              "    .colab-df-container {\n",
              "      display:flex;\n",
              "      flex-wrap:wrap;\n",
              "      gap: 12px;\n",
              "    }\n",
              "\n",
              "    .colab-df-convert {\n",
              "      background-color: #E8F0FE;\n",
              "      border: none;\n",
              "      border-radius: 50%;\n",
              "      cursor: pointer;\n",
              "      display: none;\n",
              "      fill: #1967D2;\n",
              "      height: 32px;\n",
              "      padding: 0 0 0 0;\n",
              "      width: 32px;\n",
              "    }\n",
              "\n",
              "    .colab-df-convert:hover {\n",
              "      background-color: #E2EBFA;\n",
              "      box-shadow: 0px 1px 2px rgba(60, 64, 67, 0.3), 0px 1px 3px 1px rgba(60, 64, 67, 0.15);\n",
              "      fill: #174EA6;\n",
              "    }\n",
              "\n",
              "    [theme=dark] .colab-df-convert {\n",
              "      background-color: #3B4455;\n",
              "      fill: #D2E3FC;\n",
              "    }\n",
              "\n",
              "    [theme=dark] .colab-df-convert:hover {\n",
              "      background-color: #434B5C;\n",
              "      box-shadow: 0px 1px 3px 1px rgba(0, 0, 0, 0.15);\n",
              "      filter: drop-shadow(0px 1px 2px rgba(0, 0, 0, 0.3));\n",
              "      fill: #FFFFFF;\n",
              "    }\n",
              "  </style>\n",
              "\n",
              "      <script>\n",
              "        const buttonEl =\n",
              "          document.querySelector('#df-388f2d45-9dd7-4f34-969d-33a19f3e4686 button.colab-df-convert');\n",
              "        buttonEl.style.display =\n",
              "          google.colab.kernel.accessAllowed ? 'block' : 'none';\n",
              "\n",
              "        async function convertToInteractive(key) {\n",
              "          const element = document.querySelector('#df-388f2d45-9dd7-4f34-969d-33a19f3e4686');\n",
              "          const dataTable =\n",
              "            await google.colab.kernel.invokeFunction('convertToInteractive',\n",
              "                                                     [key], {});\n",
              "          if (!dataTable) return;\n",
              "\n",
              "          const docLinkHtml = 'Like what you see? Visit the ' +\n",
              "            '<a target=\"_blank\" href=https://colab.research.google.com/notebooks/data_table.ipynb>data table notebook</a>'\n",
              "            + ' to learn more about interactive tables.';\n",
              "          element.innerHTML = '';\n",
              "          dataTable['output_type'] = 'display_data';\n",
              "          await google.colab.output.renderOutput(dataTable, element);\n",
              "          const docLink = document.createElement('div');\n",
              "          docLink.innerHTML = docLinkHtml;\n",
              "          element.appendChild(docLink);\n",
              "        }\n",
              "      </script>\n",
              "    </div>\n",
              "  </div>\n",
              "  "
            ]
          },
          "metadata": {},
          "execution_count": 20
        }
      ],
      "source": [
        "df.head()"
      ]
    },
    {
      "cell_type": "markdown",
      "metadata": {
        "id": "PYglDyM432bh"
      },
      "source": [
        "## 4. Tampilan Modul Pembelajaran (Setelah Preprocessing)"
      ]
    },
    {
      "cell_type": "code",
      "execution_count": 21,
      "metadata": {
        "id": "29xA_lrv32bi"
      },
      "outputs": [],
      "source": [
        "# Deskripsi kedua (Setelah preprocessing)\n",
        "def print_description_clean(index):\n",
        "    example = df[df.index == index][['modul_pembelajaran_clean', 'Mitra','Alamat']].values[0]\n",
        "    if len(example) > 0:\n",
        "        print(example[0])\n",
        "        print('Mitra:', example[1])\n",
        "        print('Alamat:', example[2])"
      ]
    },
    {
      "cell_type": "code",
      "execution_count": 22,
      "metadata": {
        "id": "Ga4U7hER32bk",
        "outputId": "1f9ca6f5-a7e7-4c70-e24a-d571fb3e1e9a",
        "colab": {
          "base_uri": "https://localhost:8080/"
        }
      },
      "outputs": [
        {
          "output_type": "stream",
          "name": "stdout",
          "text": [
            "content review job performance strategic communication plan content design content delivery content strategy\n",
            "Mitra: PT Telkom Indonesia (Persero) Tbk\n",
            "Alamat: Jl Japati 1, Bandung\n"
          ]
        }
      ],
      "source": [
        "print_description_clean(1)"
      ]
    },
    {
      "cell_type": "code",
      "execution_count": 23,
      "metadata": {
        "id": "TvcTeum532bm",
        "outputId": "c54367d0-b04e-4750-f053-646d9a3720dc",
        "colab": {
          "base_uri": "https://localhost:8080/"
        }
      },
      "outputs": [
        {
          "output_type": "stream",
          "name": "stdout",
          "text": [
            "sofware engineering menerapkan proses pengembangan software menggunakan code editor vscode terminal version control dan basic networking\n",
            "Mitra: PT Ruang Raya Indonesia\n",
            "Alamat: Jl. Dr. Saharjo No.161, Manggarai Selatan, Tebet, Kota Jakarta Selatan, Daerah Khusus Ibukota Jakarta 12860\n"
          ]
        }
      ],
      "source": [
        "print_description_clean(11)"
      ]
    },
    {
      "cell_type": "code",
      "execution_count": 24,
      "metadata": {
        "id": "CAuiiYHq32bt",
        "outputId": "b4c17a30-e57f-4fb9-c557-29dbd9ca0bf2",
        "colab": {
          "base_uri": "https://localhost:8080/"
        }
      },
      "outputs": [
        {
          "output_type": "stream",
          "name": "stdout",
          "text": [
            "Implementasi Basis Data Web Service Sistem Basis Data Pemrograman Web Jaringan Komputer Sistem Operasi Pemrograman Aplikasi Mobile Text Mining \n",
            "Mitra: Bima Pamungkas\n",
            "Alamat: JL. Jetis Trawas RT 01 RW 003, Cepoko, Gunungpati, Semarang\n"
          ]
        }
      ],
      "source": [
        "print_description(0)"
      ]
    },
    {
      "cell_type": "markdown",
      "metadata": {
        "id": "bQIRVwyg32bv"
      },
      "source": [
        "## 5. TF-IDF & Cosine Similarity"
      ]
    },
    {
      "cell_type": "code",
      "execution_count": 25,
      "metadata": {
        "scrolled": false,
        "id": "ovYiPsUb32bx",
        "outputId": "a094dfb2-460f-4342-b498-843406a4b617",
        "colab": {
          "base_uri": "https://localhost:8080/"
        }
      },
      "outputs": [
        {
          "output_type": "execute_result",
          "data": {
            "text/plain": [
              "array([[1.        , 0.        , 0.        , 0.        , 0.        ,\n",
              "        0.        , 0.        , 0.04723323, 0.        , 0.03726567,\n",
              "        0.        , 0.        , 0.04537467, 0.0210648 , 0.04981889],\n",
              "       [0.        , 1.        , 0.        , 0.        , 0.        ,\n",
              "        0.01940793, 0.02154918, 0.        , 0.        , 0.        ,\n",
              "        0.        , 0.        , 0.        , 0.        , 0.        ],\n",
              "       [0.        , 0.        , 1.        , 0.        , 0.02407928,\n",
              "        0.        , 0.        , 0.        , 0.01010533, 0.01020408,\n",
              "        0.        , 0.01160064, 0.        , 0.        , 0.01242543],\n",
              "       [0.        , 0.        , 0.        , 1.        , 0.        ,\n",
              "        0.        , 0.        , 0.        , 0.        , 0.        ,\n",
              "        0.        , 0.        , 0.        , 0.        , 0.        ],\n",
              "       [0.        , 0.        , 0.02407928, 0.        , 1.        ,\n",
              "        0.        , 0.        , 0.        , 0.01715328, 0.        ,\n",
              "        0.        , 0.        , 0.06537348, 0.03457312, 0.        ],\n",
              "       [0.        , 0.01940793, 0.        , 0.        , 0.        ,\n",
              "        1.        , 0.10540602, 0.        , 0.        , 0.        ,\n",
              "        0.        , 0.        , 0.        , 0.        , 0.        ],\n",
              "       [0.        , 0.02154918, 0.        , 0.        , 0.        ,\n",
              "        0.10540602, 1.        , 0.        , 0.        , 0.        ,\n",
              "        0.        , 0.        , 0.        , 0.        , 0.        ],\n",
              "       [0.04723323, 0.        , 0.        , 0.        , 0.        ,\n",
              "        0.        , 0.        , 1.        , 0.        , 0.        ,\n",
              "        0.        , 0.        , 0.        , 0.        , 0.        ],\n",
              "       [0.        , 0.        , 0.01010533, 0.        , 0.01715328,\n",
              "        0.        , 0.        , 0.        , 1.        , 0.01781854,\n",
              "        0.03725375, 0.03225056, 0.01423846, 0.        , 0.03454353],\n",
              "       [0.03726567, 0.        , 0.01020408, 0.        , 0.        ,\n",
              "        0.        , 0.        , 0.        , 0.01781854, 1.        ,\n",
              "        0.        , 0.00834466, 0.09216589, 0.01096947, 0.03488108],\n",
              "       [0.        , 0.        , 0.        , 0.        , 0.        ,\n",
              "        0.        , 0.        , 0.        , 0.03725375, 0.        ,\n",
              "        1.        , 0.        , 0.        , 0.        , 0.        ],\n",
              "       [0.        , 0.        , 0.01160064, 0.        , 0.        ,\n",
              "        0.        , 0.        , 0.        , 0.03225056, 0.00834466,\n",
              "        0.        , 1.        , 0.        , 0.        , 0.03965501],\n",
              "       [0.04537467, 0.        , 0.        , 0.        , 0.06537348,\n",
              "        0.        , 0.        , 0.        , 0.01423846, 0.09216589,\n",
              "        0.        , 0.        , 1.        , 0.06564535, 0.        ],\n",
              "       [0.0210648 , 0.        , 0.        , 0.        , 0.03457312,\n",
              "        0.        , 0.        , 0.        , 0.        , 0.01096947,\n",
              "        0.        , 0.        , 0.06564535, 1.        , 0.        ],\n",
              "       [0.04981889, 0.        , 0.01242543, 0.        , 0.        ,\n",
              "        0.        , 0.        , 0.        , 0.03454353, 0.03488108,\n",
              "        0.        , 0.03965501, 0.        , 0.        , 1.        ]])"
            ]
          },
          "metadata": {},
          "execution_count": 25
        }
      ],
      "source": [
        "df.set_index('Mitra', inplace=True)\n",
        "tf = TfidfVectorizer(analyzer='word', ngram_range=(1, 3), min_df=0, stop_words='english')\n",
        "tfidf_matrix = tf.fit_transform(df['modul_pembelajaran_clean'])\n",
        "cos_sim = cosine_similarity(tfidf_matrix, tfidf_matrix)\n",
        "cos_sim"
      ]
    },
    {
      "cell_type": "code",
      "execution_count": 26,
      "metadata": {
        "id": "AJ7uT1TC32b1",
        "outputId": "86d66e0f-fe65-4471-c9e8-5b33e728c471",
        "colab": {
          "base_uri": "https://localhost:8080/"
        }
      },
      "outputs": [
        {
          "output_type": "execute_result",
          "data": {
            "text/plain": [
              "0                                        Bima Pamungkas\n",
              "1                     PT Telkom Indonesia (Persero) Tbk\n",
              "2                         PT STECHOQ ROBOTIKA INDONESIA\n",
              "3                PT Bank Negara Indonesia (Persero) Tbk\n",
              "4                             PT Zona Edukasi Nusantara\n",
              "5                               PT Global Tiket Network\n",
              "6                 PT. IlmuKomputerCom Braindevs Sistema\n",
              "7                  PT RPN Pusat Penelitian Kelapa Sawit\n",
              "8                     PT Hacktivate Teknologi Indonesia\n",
              "9                           PT LENTERA BANGSA BENDERANG\n",
              "10    PT Panji Edukasi Nusantara / Apple Developer A...\n",
              "11                              PT Ruang Raya Indonesia\n",
              "12                         PT Nurul Fikri Cipta Inovasi\n",
              "13                              PT Marka Kreasi Persada\n",
              "14                         PT Greatedu Global Mahardika\n",
              "Name: Mitra, dtype: object"
            ]
          },
          "metadata": {},
          "execution_count": 26
        }
      ],
      "source": [
        "# Set index utama di kolom 'name'\n",
        "indices = pd.Series(df.index)\n",
        "indices[:50]"
      ]
    },
    {
      "cell_type": "markdown",
      "metadata": {
        "id": "4hngFjil32b2"
      },
      "source": [
        "## 6. Modelling"
      ]
    },
    {
      "cell_type": "code",
      "execution_count": 27,
      "metadata": {
        "id": "V2KxEf2h32b3"
      },
      "outputs": [],
      "source": [
        "def recommendations(name, cos_sim = cos_sim):\n",
        "    \n",
        "    recommended_modul = []\n",
        "    \n",
        "    # Mengambil nama modul berdasarkan variabel indicies\n",
        "    idx = indices[indices == name].index[0]\n",
        "\n",
        "    # Membuat series berdasarkan skor kesamaan\n",
        "    score_series = pd.Series(cos_sim[idx]).sort_values(ascending = False)\n",
        "\n",
        "    # mengambil index dan dibuat 3 baris rekomendasi terbaik\n",
        "    top_10_indexes = list(score_series.iloc[1:4].index)\n",
        "    \n",
        "    for i in top_10_indexes:\n",
        "        recommended_modul.append(list(df.index)[i])\n",
        "        \n",
        "    return recommended_modul"
      ]
    },
    {
      "cell_type": "markdown",
      "metadata": {
        "scrolled": false,
        "id": "vCunHa1o32b7"
      },
      "source": [
        "## 7. Prediksi"
      ]
    },
    {
      "cell_type": "code",
      "execution_count": 29,
      "metadata": {
        "id": "zgkrZYge32b9",
        "outputId": "1e4a4c6b-f467-4eae-cf65-8346c1f51cc8",
        "colab": {
          "base_uri": "https://localhost:8080/"
        }
      },
      "outputs": [
        {
          "output_type": "execute_result",
          "data": {
            "text/plain": [
              "['PT Greatedu Global Mahardika',\n",
              " 'PT RPN Pusat Penelitian Kelapa Sawit',\n",
              " 'PT Nurul Fikri Cipta Inovasi']"
            ]
          },
          "metadata": {},
          "execution_count": 29
        }
      ],
      "source": [
        "recommendations('Bima Pamungkas')"
      ]
    },
    {
      "cell_type": "code",
      "execution_count": 30,
      "metadata": {
        "id": "KcqcvLMX32b-",
        "outputId": "3b67d13a-ed48-4cfd-a53b-90909e172ce9",
        "colab": {
          "base_uri": "https://localhost:8080/"
        }
      },
      "outputs": [
        {
          "output_type": "execute_result",
          "data": {
            "text/plain": [
              "['PT. IlmuKomputerCom Braindevs Sistema',\n",
              " 'PT Global Tiket Network',\n",
              " 'Bima Pamungkas']"
            ]
          },
          "metadata": {},
          "execution_count": 30
        }
      ],
      "source": [
        "recommendations(\"PT Telkom Indonesia (Persero) Tbk\")"
      ]
    },
    {
      "cell_type": "code",
      "execution_count": 31,
      "metadata": {
        "id": "V_8Lf3nn32cQ",
        "outputId": "5d886d8e-5025-48e4-9ef6-766b452de9e4",
        "colab": {
          "base_uri": "https://localhost:8080/"
        }
      },
      "outputs": [
        {
          "output_type": "execute_result",
          "data": {
            "text/plain": [
              "['PT Hacktivate Teknologi Indonesia',\n",
              " 'Bima Pamungkas',\n",
              " 'PT Telkom Indonesia (Persero) Tbk']"
            ]
          },
          "metadata": {},
          "execution_count": 31
        }
      ],
      "source": [
        "recommendations(\"PT Panji Edukasi Nusantara / Apple Developer Academy\")"
      ]
    }
  ],
  "metadata": {
    "kernelspec": {
      "display_name": "Python 3",
      "language": "python",
      "name": "python3"
    },
    "language_info": {
      "codemirror_mode": {
        "name": "ipython",
        "version": 3
      },
      "file_extension": ".py",
      "mimetype": "text/x-python",
      "name": "python",
      "nbconvert_exporter": "python",
      "pygments_lexer": "ipython3",
      "version": "3.7.3"
    },
    "colab": {
      "provenance": [],
      "include_colab_link": true
    }
  },
  "nbformat": 4,
  "nbformat_minor": 0
}